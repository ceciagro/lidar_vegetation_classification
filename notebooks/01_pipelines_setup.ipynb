{
 "cells": [
  {
   "cell_type": "markdown",
   "id": "3beee68e",
   "metadata": {},
   "source": [
    "# 01 — Pipelines PDAL (setup reproducible)\n",
    "\n",
    "Este notebook **crea y guarda** los archivos JSON de PDAL que usa el proyecto.\n",
    "No ejecuta PDAL (eso lo hacen los otros notebooks); solo deja los pipelines listos en `pipelines/`.\n",
    "\n",
    "**Genera:**\n",
    "- `pipelines/pipeline_make_hag.json` → ground + HAG  \n",
    "- `pipelines/pipeline_filter_veg.json` → filtrar HAG ≥ 2 m  \n",
    "- `pipelines/pipeline_dbscan.json` → DBSCAN (deja ruido -1)  \n",
    "- `pipelines/cluster_dbscan.json` → DBSCAN + quita ruido en el pipeline  \n",
    "- (opcional) `pipelines/pipeline_ground_hag_pmf.json` → variante de ground+HAG"
   ]
  },
  {
   "cell_type": "code",
   "execution_count": 8,
   "id": "56167dec",
   "metadata": {},
   "outputs": [
    {
     "name": "stdout",
     "output_type": "stream",
     "text": [
      "Pipelines → /Users/cecilialedesma/Library/Mobile Documents/com~apple~CloudDocs/projects_2025/lidar_vegetation_classification/notebooks/pipelines\n",
      "RAW esperado → /Users/cecilialedesma/Library/Mobile Documents/com~apple~CloudDocs/projects_2025/lidar_vegetation_classification/notebooks/data/raw/sample.laz\n"
     ]
    }
   ],
   "source": [
    "# === Celda 1: Rutas y parámetros ===\n",
    "import json\n",
    "from pathlib import Path\n",
    "\n",
    "ROOT = Path(\".\").resolve()\n",
    "PIPES = ROOT / \"pipelines\"\n",
    "DATA  = ROOT / \"data\"\n",
    "RAW   = DATA / \"raw\" / \"sample.laz\"\n",
    "PROC  = DATA / \"processed\"\n",
    "\n",
    "PIPES.mkdir(parents=True, exist_ok=True)\n",
    "PROC.mkdir(parents=True, exist_ok=True)\n",
    "\n",
    "# Parámetros DBSCAN (ajustables)\n",
    "DBSCAN_EPS = 0.8\n",
    "DBSCAN_MINPTS = 20\n",
    "\n",
    "# Salidas usadas en el flujo\n",
    "LAS_HAG = PROC / \"sample_hag.las\"\n",
    "LAS_VEG = PROC / \"veg_gt2m.las\"\n",
    "LAS_DB  = PROC / \"veg_gt2m_dbscan.las\"\n",
    "CSV_DB  = PROC / \"veg_gt2m_dbscan.csv\"\n",
    "CSV_DB_CLEAN = PROC / \"veg_gt2m_dbscan_clean.csv\"\n",
    "\n",
    "print(\"Pipelines →\", PIPES)\n",
    "print(\"RAW esperado →\", RAW)"
   ]
  },
  {
   "cell_type": "markdown",
   "id": "52cd17ab",
   "metadata": {},
   "source": [
    "## Rutas y parámetros\n",
    "\n",
    "Define rutas base (`data/raw`, `data/processed`, `pipelines`) y los hiperparámetros de\n",
    "DBSCAN que se inyectarán en los JSON:\n",
    "\n",
    "- `DBSCAN_EPS` → radio de vecindad (m)  \n",
    "- `DBSCAN_MINPTS` → puntos mínimos por clúster\n",
    "\n",
    "> Podés ajustar estos valores acá y **regenerar** los JSON para re‐correr el pipeline con nuevos parámetros."
   ]
  },
  {
   "cell_type": "code",
   "execution_count": 9,
   "id": "634ecfe1",
   "metadata": {},
   "outputs": [
    {
     "name": "stdout",
     "output_type": "stream",
     "text": [
      "✅ Escrito: /Users/cecilialedesma/Library/Mobile Documents/com~apple~CloudDocs/projects_2025/lidar_vegetation_classification/notebooks/pipelines/pipeline_make_hag.json\n"
     ]
    }
   ],
   "source": [
    "# === Celda 2: pipeline_make_hag.json ===\n",
    "# Lee sample.laz → filtra terreno (PMF) → calcula HAG → escribe LAS 1.4 formato 6 con extra_dims\n",
    "pipeline_make_hag = {\n",
    "  \"pipeline\": [\n",
    "    {\"type\": \"readers.las\", \"filename\": str(RAW)},\n",
    "    {\"type\": \"filters.pmf\",\n",
    "     \"max_window_size\": 18, \"slope\": 0.15,\n",
    "     \"initial_distance\": 0.5, \"cell_size\": 1.0},\n",
    "    {\"type\": \"filters.hag_delaunay\"},\n",
    "    {\"type\": \"writers.las\",\n",
    "     \"filename\": str(LAS_HAG),\n",
    "     \"minor_version\": 4, \"dataformat_id\": 6,\n",
    "     \"extra_dims\": \"all\"}\n",
    "  ]\n",
    "}\n",
    "\n",
    "PIPE_MAKE_HAG = PIPES / \"pipeline_make_hag.json\"\n",
    "PIPE_MAKE_HAG.write_text(json.dumps(pipeline_make_hag, indent=2))\n",
    "print(\"✅ Escrito:\", PIPE_MAKE_HAG)"
   ]
  },
  {
   "cell_type": "markdown",
   "id": "3a862461",
   "metadata": {},
   "source": [
    "## `pipeline_make_hag.json` — Ground + Height Above Ground (HAG)\n",
    "\n",
    "**Entrada:** `data/raw/sample.laz`  \n",
    "**Proceso:**  \n",
    "1) `filters.pmf` (suelo)  \n",
    "2) `filters.hag_delaunay` (calcula `HeightAboveGround`)  \n",
    "**Salida:** `data/processed/sample_hag.las` (LAS 1.4, formato 6, `extra_dims=all`)\n",
    "\n",
    "> Este paso es la base: añade la dimensión `HeightAboveGround` que usan todos los siguientes."
   ]
  },
  {
   "cell_type": "code",
   "execution_count": 10,
   "id": "a47ad9ad",
   "metadata": {},
   "outputs": [
    {
     "name": "stdout",
     "output_type": "stream",
     "text": [
      "✅ Escrito: /Users/cecilialedesma/Library/Mobile Documents/com~apple~CloudDocs/projects_2025/lidar_vegetation_classification/notebooks/pipelines/pipeline_filter_veg.json\n"
     ]
    }
   ],
   "source": [
    "# === Celda 3: pipeline_filter_veg.json (HAG ≥ 2 m) ===\n",
    "# Filtra por HeightAboveGround >= 2 y preserva extra_dims.\n",
    "pipeline_filter_veg = {\n",
    "  \"pipeline\": [\n",
    "    str(LAS_HAG),\n",
    "    {\"type\": \"filters.range\",\n",
    "     \"limits\": \"HeightAboveGround[2:]\"},\n",
    "    {\"type\": \"writers.las\",\n",
    "     \"filename\": str(LAS_VEG),\n",
    "     \"minor_version\": 4, \"dataformat_id\": 6,\n",
    "     \"extra_dims\": \"all\"}\n",
    "  ]\n",
    "}\n",
    "\n",
    "PIPE_FILTER_VEG = PIPES / \"pipeline_filter_veg.json\"\n",
    "PIPE_FILTER_VEG.write_text(json.dumps(pipeline_filter_veg, indent=2))\n",
    "print(\"✅ Escrito:\", PIPE_FILTER_VEG)"
   ]
  },
  {
   "cell_type": "markdown",
   "id": "d766f921",
   "metadata": {},
   "source": [
    "## `pipeline_filter_veg.json` — Vegetación HAG ≥ 2 m\n",
    "\n",
    "**Entrada:** `data/processed/sample_hag.las`  \n",
    "**Proceso:** `filters.range` con `HeightAboveGround[2:]`  \n",
    "**Salida:** `data/processed/veg_gt2m.las`\n",
    "\n",
    "> Deja solo puntos con altura relativa ≥ 2 m (copas / arbustos altos)."
   ]
  },
  {
   "cell_type": "code",
   "execution_count": 11,
   "id": "97b60d1d",
   "metadata": {},
   "outputs": [
    {
     "name": "stdout",
     "output_type": "stream",
     "text": [
      "✅ Escrito: /Users/cecilialedesma/Library/Mobile Documents/com~apple~CloudDocs/projects_2025/lidar_vegetation_classification/notebooks/pipelines/pipeline_dbscan.json\n"
     ]
    }
   ],
   "source": [
    "# === Celda 4: pipeline_dbscan.json (deja ruido; CSV + LAS) ===\n",
    "# Corre DBSCAN y exporta LAS + CSV con ClusterID (incluye ruido -1, se limpia luego en pandas).\n",
    "pipeline_dbscan = {\n",
    "  \"pipeline\": [\n",
    "    str(LAS_VEG),\n",
    "    {\"type\": \"filters.dbscan\",\n",
    "     \"min_points\": DBSCAN_MINPTS,\n",
    "     \"eps\": DBSCAN_EPS,\n",
    "     \"dimensions\": \"X,Y,Z\"},\n",
    "    {\"type\": \"writers.las\",\n",
    "     \"filename\": str(LAS_DB),\n",
    "     \"minor_version\": 4, \"dataformat_id\": 6,\n",
    "     \"extra_dims\": \"all\"},\n",
    "    {\"type\": \"writers.text\",\n",
    "     \"filename\": str(CSV_DB),\n",
    "     \"format\": \"csv\",\n",
    "     \"order\": \"X,Y,Z,HeightAboveGround,ClusterID\",\n",
    "     \"keep_unspecified\": False,\n",
    "     \"quote_header\": False}\n",
    "  ]\n",
    "}\n",
    "\n",
    "PIPE_DBSCAN = PIPES / \"pipeline_dbscan.json\"\n",
    "PIPE_DBSCAN.write_text(json.dumps(pipeline_dbscan, indent=2))\n",
    "print(\"✅ Escrito:\", PIPE_DBSCAN)"
   ]
  },
  {
   "cell_type": "markdown",
   "id": "17d99039",
   "metadata": {},
   "source": [
    "## `pipeline_dbscan.json` — DBSCAN (con ruido)\n",
    "\n",
    "**Entrada:** `data/processed/veg_gt2m.las`  \n",
    "**Proceso:** `filters.dbscan` con `eps` y `min_points` definidos más arriba  \n",
    "**Salida:**  \n",
    "- `data/processed/veg_gt2m_dbscan.las`  \n",
    "- `data/processed/veg_gt2m_dbscan.csv` (`X,Y,Z,HeightAboveGround,ClusterID`)\n",
    "\n",
    "> **Incluye ruido**: los puntos no asignados quedan con `ClusterID = -1`.\n",
    "  Luego los limpiamos en pandas (e.g. en `05_exploration.ipynb` o `06_end_to_end.ipynb`)."
   ]
  },
  {
   "cell_type": "code",
   "execution_count": 12,
   "id": "e37c4e1d",
   "metadata": {},
   "outputs": [
    {
     "name": "stdout",
     "output_type": "stream",
     "text": [
      "✅ Escrito: /Users/cecilialedesma/Library/Mobile Documents/com~apple~CloudDocs/projects_2025/lidar_vegetation_classification/notebooks/pipelines/cluster_dbscan.json\n"
     ]
    }
   ],
   "source": [
    "# === Celda 5: cluster_dbscan.json (DBSCAN + filtrar ruido en el pipeline) ===\n",
    "# Variante que además remueve ruido (ClusterID = -1) dentro del pipeline.\n",
    "cluster_dbscan = {\n",
    "  \"pipeline\": [\n",
    "    str(LAS_VEG),\n",
    "    {\"type\": \"filters.dbscan\",\n",
    "     \"min_points\": DBSCAN_MINPTS,\n",
    "     \"eps\": DBSCAN_EPS,\n",
    "     \"dimensions\": \"X,Y,Z\"},\n",
    "    {\"type\": \"filters.range\",\n",
    "     \"limits\": \"ClusterID![-1]\"},\n",
    "    {\"type\": \"writers.las\",\n",
    "     \"filename\": str(PROC / \"veg_gt2m_dbscan_clean.las\"),\n",
    "     \"minor_version\": 4, \"dataformat_id\": 6,\n",
    "     \"extra_dims\": \"all\"},\n",
    "    {\"type\": \"writers.text\",\n",
    "     \"filename\": str(CSV_DB_CLEAN),\n",
    "     \"format\": \"csv\",\n",
    "     \"order\": \"X,Y,Z,HeightAboveGround,ClusterID\",\n",
    "     \"keep_unspecified\": False,\n",
    "     \"quote_header\": False}\n",
    "  ]\n",
    "}\n",
    "\n",
    "PIPE_CLUSTER_DBSCAN = PIPES / \"cluster_dbscan.json\"\n",
    "PIPE_CLUSTER_DBSCAN.write_text(json.dumps(cluster_dbscan, indent=2))\n",
    "print(\"✅ Escrito:\", PIPE_CLUSTER_DBSCAN)"
   ]
  },
  {
   "cell_type": "markdown",
   "id": "c4b9ec1c",
   "metadata": {},
   "source": [
    "## `cluster_dbscan.json` — DBSCAN + quitar ruido en el pipeline\n",
    "\n",
    "Variante de DBSCAN que **filtra el ruido dentro del JSON** usando `filters.range` con `ClusterID![-1]`.\n",
    "\n",
    "**Salidas:**  \n",
    "- `data/processed/veg_gt2m_dbscan_clean.las`  \n",
    "- `data/processed/veg_gt2m_dbscan_clean.csv`\n",
    "\n",
    "> Útil si preferís obtener directamente datos sin ruido desde PDAL (en lugar de limpiar en pandas)."
   ]
  },
  {
   "cell_type": "code",
   "execution_count": 13,
   "id": "c7c85b3d",
   "metadata": {},
   "outputs": [
    {
     "name": "stdout",
     "output_type": "stream",
     "text": [
      "✅ Escrito: /Users/cecilialedesma/Library/Mobile Documents/com~apple~CloudDocs/projects_2025/lidar_vegetation_classification/notebooks/pipelines/pipeline_ground_hag_pmf.json\n"
     ]
    }
   ],
   "source": [
    "# === Celda 6: (Opcional) variantes ground+HAG por si deseás dejar más JSON a mano ===\n",
    "pipeline_ground_hag_pmf = {\n",
    "  \"pipeline\": [\n",
    "    {\"type\": \"readers.las\", \"filename\": str(RAW)},\n",
    "    {\"type\": \"filters.pmf\",\n",
    "     \"max_window_size\": 18, \"slope\": 0.15,\n",
    "     \"initial_distance\": 0.5, \"cell_size\": 1.0},\n",
    "    {\"type\": \"filters.hag_delaunay\"},\n",
    "    {\"type\": \"writers.las\",\n",
    "     \"filename\": str(PROC / \"sample_hag_pmf.las\"),\n",
    "     \"minor_version\": 4, \"dataformat_id\": 6,\n",
    "     \"extra_dims\": \"all\"}\n",
    "  ]\n",
    "}\n",
    "\n",
    "for name, obj in [\n",
    "    (\"pipeline_ground_hag_pmf.json\", pipeline_ground_hag_pmf),\n",
    "]:\n",
    "    (PIPES / name).write_text(json.dumps(obj, indent=2))\n",
    "    print(\"✅ Escrito:\", PIPES / name)"
   ]
  },
  {
   "cell_type": "markdown",
   "id": "f5c8e8c0",
   "metadata": {},
   "source": [
    "## Cómo ejecutar los pipelines (manual/CLI)\n",
    "\n",
    "Cuando quieras correrlos (desde terminal):\n",
    "\n",
    "```bash\n",
    "pdal pipeline pipelines/pipeline_make_hag.json\n",
    "pdal pipeline pipelines/pipeline_filter_veg.json\n",
    "pdal pipeline pipelines/pipeline_dbscan.json       # o bien:\n",
    "# pdal pipeline pipelines/cluster_dbscan.json"
   ]
  },
  {
   "cell_type": "code",
   "execution_count": 14,
   "id": "ce0d067c",
   "metadata": {},
   "outputs": [
    {
     "name": "stdout",
     "output_type": "stream",
     "text": [
      "\n",
      "Ejecutá en orden (desde la terminal o con subprocess si querés):\n",
      "1) pdal pipeline pipelines/pipeline_make_hag.json\n",
      "2) pdal pipeline pipelines/pipeline_filter_veg.json\n",
      "3) pdal pipeline pipelines/pipeline_dbscan.json       (o)   pdal pipeline pipelines/cluster_dbscan.json\n",
      "\n"
     ]
    }
   ],
   "source": [
    "# === Celda 7: Recordatorio de ejecución con PDAL (manual) ===\n",
    "print(\"\"\"\n",
    "Ejecutá en orden (desde la terminal o con subprocess si querés):\n",
    "1) pdal pipeline pipelines/pipeline_make_hag.json\n",
    "2) pdal pipeline pipelines/pipeline_filter_veg.json\n",
    "3) pdal pipeline pipelines/pipeline_dbscan.json       (o)   pdal pipeline pipelines/cluster_dbscan.json\n",
    "\"\"\")"
   ]
  },
  {
   "cell_type": "markdown",
   "id": "afeeadd3",
   "metadata": {},
   "source": [
    "---\n"
   ]
  }
 ],
 "metadata": {
  "kernelspec": {
   "display_name": "lidar-veg",
   "language": "python",
   "name": "python3"
  },
  "language_info": {
   "codemirror_mode": {
    "name": "ipython",
    "version": 3
   },
   "file_extension": ".py",
   "mimetype": "text/x-python",
   "name": "python",
   "nbconvert_exporter": "python",
   "pygments_lexer": "ipython3",
   "version": "3.11.13"
  }
 },
 "nbformat": 4,
 "nbformat_minor": 5
}
