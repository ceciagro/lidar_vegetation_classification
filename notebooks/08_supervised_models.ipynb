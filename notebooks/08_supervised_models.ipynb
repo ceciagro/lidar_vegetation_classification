{
 "cells": [
  {
   "cell_type": "markdown",
   "id": "5628d1bf",
   "metadata": {},
   "source": [
    "### # 08 — Model selection & evaluation\n",
    "### Compara varios modelos con CV, elige el mejor y lo valida en hold-out test.\n"
   ]
  },
  {
   "cell_type": "code",
   "execution_count": 5,
   "id": "0c515fa6",
   "metadata": {},
   "outputs": [
    {
     "name": "stdout",
     "output_type": "stream",
     "text": [
      "Usando: /Users/cecilialedesma/Library/Mobile Documents/com~apple~CloudDocs/projects_2025/lidar_vegetation_classification/notebooks/data/processed/cluster_features.csv\n"
     ]
    }
   ],
   "source": [
    "import warnings, os\n",
    "warnings.filterwarnings(\"ignore\")\n",
    "\n",
    "import numpy as np\n",
    "import pandas as pd\n",
    "import matplotlib.pyplot as plt\n",
    "\n",
    "from pathlib import Path\n",
    "from collections import defaultdict\n",
    "\n",
    "from sklearn.model_selection import StratifiedKFold, train_test_split, cross_validate, GridSearchCV\n",
    "from sklearn.preprocessing import StandardScaler\n",
    "from sklearn.pipeline import Pipeline\n",
    "from sklearn.metrics import (\n",
    "    accuracy_score, f1_score, balanced_accuracy_score,\n",
    "    classification_report, confusion_matrix\n",
    ")\n",
    "from sklearn.inspection import permutation_importance\n",
    "\n",
    "# Modelos base\n",
    "from sklearn.linear_model import LogisticRegression\n",
    "from sklearn.ensemble import RandomForestClassifier\n",
    "from sklearn.svm import SVC\n",
    "from sklearn.neighbors import KNeighborsClassifier\n",
    "\n",
    "# XGBoost (opcional)\n",
    "try:\n",
    "    from xgboost import XGBClassifier\n",
    "    HAS_XGB = True\n",
    "except Exception:\n",
    "    HAS_XGB = False\n",
    "\n",
    "ROOT = Path(\".\")\n",
    "PROC = ROOT / \"data\" / \"processed\"\n",
    "IN_FEATS = PROC / \"cluster_features.csv\"\n",
    "\n",
    "assert IN_FEATS.exists(), f\"No encuentro {IN_FEATS}. Corre 07_advanced_metrics_ml.ipynb primero.\"\n",
    "print(\"Usando:\", IN_FEATS.resolve())"
   ]
  },
  {
   "cell_type": "code",
   "execution_count": 6,
   "id": "bbd6e25a",
   "metadata": {},
   "outputs": [
    {
     "name": "stdout",
     "output_type": "stream",
     "text": [
      "Shape: (3552, 25)\n",
      "Cols: ['ClusterID', 'n', 'h_min', 'h_mean', 'h_std', 'h_p25', 'h_p50', 'h_p75', 'h_p95', 'h_max'] ...\n",
      "Clases: {'matorral/arbusto': 36, 'árbol_alto': 610, 'árbol_bajo': 220, 'árbol_medio': 2686}\n"
     ]
    }
   ],
   "source": [
    "df = pd.read_csv(IN_FEATS)\n",
    "print(\"Shape:\", df.shape)\n",
    "print(\"Cols:\", list(df.columns)[:10], \"...\")\n",
    "\n",
    "# Qué columnas usar (todas salvo IDs y label)\n",
    "exclude = {\"ClusterID\", \"label\"}\n",
    "Xcols = [c for c in df.columns if c not in exclude]\n",
    "assert \"label\" in df.columns, \"Falta la columna 'label' (generada en 06).\"\n",
    "\n",
    "# Limpiar/filtrar\n",
    "df = df.dropna(subset=[\"label\"]).copy()\n",
    "X = df[Xcols].fillna(0.0).values\n",
    "y = df[\"label\"].astype(str).values\n",
    "\n",
    "# Split estratificado (hold-out para evaluación final)\n",
    "X_tr, X_te, y_tr, y_te = train_test_split(\n",
    "    X, y, test_size=0.25, random_state=42, stratify=y\n",
    ")\n",
    "\n",
    "# CV\n",
    "cv = StratifiedKFold(n_splits=5, shuffle=True, random_state=42)\n",
    "\n",
    "classes, counts = np.unique(y, return_counts=True)\n",
    "print(\"Clases:\", dict(zip(classes, counts)))"
   ]
  },
  {
   "cell_type": "code",
   "execution_count": 7,
   "id": "ba86a04d",
   "metadata": {},
   "outputs": [
    {
     "data": {
      "text/plain": [
       "['logreg', 'rf', 'svm_rbf', 'knn']"
      ]
     },
     "execution_count": 7,
     "metadata": {},
     "output_type": "execute_result"
    }
   ],
   "source": [
    "models = {\n",
    "    \"logreg\": Pipeline([\n",
    "        (\"scaler\", StandardScaler()),\n",
    "        (\"clf\", LogisticRegression(max_iter=2000, n_jobs=None, class_weight=\"balanced\"))\n",
    "    ]),\n",
    "    \"rf\": Pipeline([\n",
    "        (\"clf\", RandomForestClassifier(n_estimators=300, random_state=42, n_jobs=-1, class_weight=\"balanced\"))\n",
    "    ]),\n",
    "    \"svm_rbf\": Pipeline([\n",
    "        (\"scaler\", StandardScaler()),\n",
    "        (\"clf\", SVC(kernel=\"rbf\", probability=True, class_weight=\"balanced\", C=1.0, gamma=\"scale\"))\n",
    "    ]),\n",
    "    \"knn\": Pipeline([\n",
    "        (\"scaler\", StandardScaler()),\n",
    "        (\"clf\", KNeighborsClassifier(n_neighbors=15))\n",
    "    ])\n",
    "}\n",
    "\n",
    "if HAS_XGB:\n",
    "    models[\"xgb\"] = Pipeline([\n",
    "        (\"clf\", XGBClassifier(\n",
    "            n_estimators=400, learning_rate=0.05, max_depth=6,\n",
    "            subsample=0.9, colsample_bytree=0.9, reg_lambda=1.0,\n",
    "            objective=\"multi:softprob\", eval_metric=\"mlogloss\",\n",
    "            random_state=42, n_jobs=-1\n",
    "        ))\n",
    "    ])\n",
    "\n",
    "list(models.keys())"
   ]
  },
  {
   "cell_type": "code",
   "execution_count": 8,
   "id": "51e1416c",
   "metadata": {},
   "outputs": [
    {
     "name": "stdout",
     "output_type": "stream",
     "text": [
      "== CV Results (mean ± std) ==\n",
      "rf        acc=0.998±0.002 | f1m=0.988±0.021 | bal_acc=0.988±0.019\n",
      "logreg    acc=0.979±0.004 | f1m=0.962±0.016 | bal_acc=0.987±0.004\n",
      "svm_rbf   acc=0.959±0.005 | f1m=0.948±0.016 | bal_acc=0.984±0.005\n",
      "knn       acc=0.964±0.007 | f1m=0.924±0.016 | bal_acc=0.944±0.009\n"
     ]
    }
   ],
   "source": [
    "scoring = {\n",
    "    \"acc\": \"accuracy\",\n",
    "    \"f1m\": \"f1_macro\",\n",
    "    \"bal_acc\": \"balanced_accuracy\",\n",
    "}\n",
    "\n",
    "cv_results = {}\n",
    "for name, pipe in models.items():\n",
    "    res = cross_validate(\n",
    "        pipe, X_tr, y_tr,\n",
    "        cv=cv, scoring=scoring, return_train_score=False, n_jobs=-1\n",
    "    )\n",
    "    cv_results[name] = {m: (res[f\"test_{m}\"].mean(), res[f\"test_{m}\"].std()) for m in scoring.keys()}\n",
    "\n",
    "# Mostrar ranking por F1-macro\n",
    "rank = sorted(cv_results.items(), key=lambda kv: kv[1][\"f1m\"][0], reverse=True)\n",
    "print(\"== CV Results (mean ± std) ==\")\n",
    "for name, scores in rank:\n",
    "    print(f\"{name:8s}  acc={scores['acc'][0]:.3f}±{scores['acc'][1]:.3f} | \"\n",
    "          f\"f1m={scores['f1m'][0]:.3f}±{scores['f1m'][1]:.3f} | \"\n",
    "          f\"bal_acc={scores['bal_acc'][0]:.3f}±{scores['bal_acc'][1]:.3f}\")"
   ]
  },
  {
   "cell_type": "code",
   "execution_count": 9,
   "id": "0aff9673",
   "metadata": {},
   "outputs": [
    {
     "name": "stdout",
     "output_type": "stream",
     "text": [
      "Top-2 para grid: ['rf', 'logreg']\n",
      "[rf] best f1_macro=0.988  params={'clf__max_depth': None, 'clf__min_samples_leaf': 1, 'clf__n_estimators': 300}\n",
      "[logreg] best f1_macro=0.971  params={'clf__C': 5.0, 'clf__penalty': 'l2', 'clf__solver': 'lbfgs'}\n",
      "\n",
      "== Ganador: rf (CV f1_macro=0.988) ==\n"
     ]
    }
   ],
   "source": [
    "top2 = [name for name, _ in rank[:2]]\n",
    "print(\"Top-2 para grid:\", top2)\n",
    "\n",
    "grids = {}\n",
    "\n",
    "if \"rf\" in top2:\n",
    "    grids[\"rf\"] = {\n",
    "        \"clf__n_estimators\": [300, 600],\n",
    "        \"clf__max_depth\": [None, 10, 20],\n",
    "        \"clf__min_samples_leaf\": [1, 2, 4]\n",
    "    }\n",
    "\n",
    "if \"svm_rbf\" in top2:\n",
    "    grids[\"svm_rbf\"] = {\n",
    "        \"clf__C\": [0.5, 1, 2],\n",
    "        \"clf__gamma\": [\"scale\", 0.1, 0.01]\n",
    "    }\n",
    "\n",
    "if \"logreg\" in top2:\n",
    "    grids[\"logreg\"] = {\n",
    "        \"clf__C\": [0.2, 1.0, 5.0],\n",
    "        \"clf__penalty\": [\"l2\"],\n",
    "        \"clf__solver\": [\"lbfgs\"]\n",
    "    }\n",
    "\n",
    "if HAS_XGB and (\"xgb\" in top2):\n",
    "    grids[\"xgb\"] = {\n",
    "        \"clf__n_estimators\": [300, 600],\n",
    "        \"clf__max_depth\": [4, 6, 8],\n",
    "        \"clf__learning_rate\": [0.03, 0.1],\n",
    "        \"clf__subsample\": [0.8, 1.0],\n",
    "        \"clf__colsample_bytree\": [0.8, 1.0]\n",
    "    }\n",
    "\n",
    "best_model = None\n",
    "best_name = None\n",
    "best_score = -np.inf\n",
    "\n",
    "for name in top2:\n",
    "    pipe = models[name]\n",
    "    params = grids.get(name)\n",
    "    if not params:\n",
    "        # si no definimos grid, usamos el modelo tal cual\n",
    "        pipe.fit(X_tr, y_tr)\n",
    "        y_cv = cross_validate(pipe, X_tr, y_tr, cv=cv, scoring=\"f1_macro\")\n",
    "        mean_score = y_cv[\"test_score\"].mean()\n",
    "        print(f\"[{name}] sin grid: f1_macro={mean_score:.3f}\")\n",
    "        if mean_score > best_score:\n",
    "            best_score, best_model, best_name = mean_score, pipe, name\n",
    "        continue\n",
    "\n",
    "    g = GridSearchCV(\n",
    "        estimator=pipe, param_grid=params, cv=cv,\n",
    "        scoring=\"f1_macro\", n_jobs=-1, verbose=0\n",
    "    )\n",
    "    g.fit(X_tr, y_tr)\n",
    "    print(f\"[{name}] best f1_macro={g.best_score_:.3f}  params={g.best_params_}\")\n",
    "    if g.best_score_ > best_score:\n",
    "        best_score, best_model, best_name = g.best_score_, g.best_estimator_, name\n",
    "\n",
    "print(f\"\\n== Ganador: {best_name} (CV f1_macro={best_score:.3f}) ==\")"
   ]
  },
  {
   "cell_type": "code",
   "execution_count": 11,
   "id": "dc69d645",
   "metadata": {},
   "outputs": [
    {
     "name": "stdout",
     "output_type": "stream",
     "text": [
      "== Test metrics ==\n",
      "Accuracy: 0.999\n",
      "Balanced Acc: 0.995\n",
      "F1 macro: 0.985\n",
      "\n",
      "== Classification report ==\n",
      "                  precision    recall  f1-score   support\n",
      "\n",
      "matorral/arbusto      0.900     1.000     0.947         9\n",
      "      árbol_alto      1.000     1.000     1.000       153\n",
      "      árbol_bajo      1.000     0.982     0.991        55\n",
      "     árbol_medio      1.000     1.000     1.000       671\n",
      "\n",
      "        accuracy                          0.999       888\n",
      "       macro avg      0.975     0.995     0.985       888\n",
      "    weighted avg      0.999     0.999     0.999       888\n",
      "\n"
     ]
    },
    {
     "data": {
      "image/png": "[encoded data removed]",
      "text/plain": [
       "<Figure size 600x500 with 1 Axes>"
      ]
     },
     "metadata": {},
     "output_type": "display_data"
    }
   ],
   "source": [
    "best_model.fit(X_tr, y_tr)\n",
    "y_pr = best_model.predict(X_te)\n",
    "\n",
    "print(\"== Test metrics ==\")\n",
    "print(\"Accuracy:\", np.round(accuracy_score(y_te, y_pr), 3))\n",
    "print(\"Balanced Acc:\", np.round(balanced_accuracy_score(y_te, y_pr), 3))\n",
    "print(\"F1 macro:\", np.round(f1_score(y_te, y_pr, average=\"macro\"), 3))\n",
    "\n",
    "print(\"\\n== Classification report ==\")\n",
    "print(classification_report(y_te, y_pr, digits=3))\n",
    "\n",
    "cm = confusion_matrix(y_te, y_pr, labels=np.unique(y))\n",
    "fig, ax = plt.subplots(figsize=(6,5))\n",
    "im = ax.imshow(cm, cmap=\"Blues\")\n",
    "ax.set_xticks(range(len(np.unique(y)))); ax.set_yticks(range(len(np.unique(y))))\n",
    "ax.set_xticklabels(np.unique(y), rotation=45, ha=\"right\")\n",
    "ax.set_yticklabels(np.unique(y))\n",
    "for (i,j), v in np.ndenumerate(cm):\n",
    "    ax.text(j, i, int(v), ha=\"center\", va=\"center\")\n",
    "ax.set_xlabel(\"Predicho\"); ax.set_ylabel(\"Real\"); ax.set_title(f\"Matriz de confusión — {best_name}\")\n",
    "plt.tight_layout(); plt.show()"
   ]
  },
  {
   "cell_type": "code",
   "execution_count": 12,
   "id": "5dc14461",
   "metadata": {},
   "outputs": [
    {
     "name": "stdout",
     "output_type": "stream",
     "text": [
      "Top 15 features:\n"
     ]
    },
    {
     "data": {
      "text/plain": [
       "h_p95           0.206631\n",
       "vh_12_20m       0.005026\n",
       "n               0.000000\n",
       "pt_density      0.000000\n",
       "planarity       0.000000\n",
       "linearity       0.000000\n",
       "vh_30_50m       0.000000\n",
       "vh_20_30m       0.000000\n",
       "vh_9_12m        0.000000\n",
       "vh_6_9m         0.000000\n",
       "vh_0_3m         0.000000\n",
       "bbox_area_m2    0.000000\n",
       "bbox_dy         0.000000\n",
       "bbox_dx         0.000000\n",
       "h_p25           0.000000\n",
       "dtype: float64"
      ]
     },
     "metadata": {},
     "output_type": "display_data"
    },
    {
     "data": {
      "image/png": "[encoded data removed]",
      "text/plain": [
       "<Figure size 700x500 with 1 Axes>"
      ]
     },
     "metadata": {},
     "output_type": "display_data"
    }
   ],
   "source": [
    "# Para pipelines con scaler funciona igual; usa X_te directamente\n",
    "r = permutation_importance(best_model, X_te, y_te, scoring=\"f1_macro\", n_repeats=10, random_state=42, n_jobs=-1)\n",
    "imp = pd.Series(r.importances_mean, index=Xcols).sort_values(ascending=False)\n",
    "\n",
    "print(\"Top 15 features:\")\n",
    "display(imp.head(15))\n",
    "\n",
    "plt.figure(figsize=(7,5))\n",
    "imp.head(15).iloc[::-1].plot.barh()\n",
    "plt.title(f\"Permutation importance (top 15) — {best_name}\")\n",
    "plt.tight_layout(); plt.show()"
   ]
  },
  {
   "cell_type": "code",
   "execution_count": null,
   "id": "238a405e",
   "metadata": {},
   "outputs": [],
   "source": [
    "import joblib\n",
    "OUT_MODEL = PROC / f\"best_model_{best_name}.joblib\"\n",
    "joblib.dump(best_model, OUT_MODEL)\n",
    "print(\"✔ Guardado:\", OUT_MODEL)"
   ]
  },
  {
   "cell_type": "markdown",
   "id": "50941f5b",
   "metadata": {},
   "source": [
    "## 📌 Conclusiones — Evaluación de Modelos Supervisados\n",
    "\n",
    "### 🔹 Matriz de confusión (RandomForest)\n",
    "- El modelo clasifica con **muy alta precisión** todas las clases (`árbol_alto`, `árbol_bajo`, `árbol_medio`, `matorral/arbusto`).  \n",
    "- No se observan errores relevantes de confusión entre clases.  \n",
    "- Esto indica que el modelo está **aprendiendo casi perfectamente la regla heurística de altura** definida en la notebook 06.  \n",
    "\n",
    "### 🔹 Importancia de variables\n",
    "- La variable **`h_p95`** (percentil 95 de altura) domina de manera abrumadora la clasificación.  \n",
    "- El resto de las features aportan muy poca información adicional.  \n",
    "- Esto confirma que el RandomForest está esencialmente **replicando la regla de clasificación por altura**.  \n",
    "\n",
    "---\n",
    "\n",
    "### 📊 Interpretación\n",
    "- El modelo muestra un rendimiento casi perfecto, pero esto no significa que tenga **capacidad real de generalización**.  \n",
    "- En la práctica, el algoritmo está sobreajustado a la misma lógica que usamos para generar las etiquetas.  \n",
    "- Por lo tanto, este resultado debe entenderse como un **benchmark interno**, no como un clasificador validado para casos reales.  \n",
    "\n",
    "---\n",
    "\n",
    "### 🔮 Próximos pasos\n",
    "- Incorporar **etiquetas de campo reales** (ground truth) para entrenar sobre clases verificadas.  \n",
    "- Evaluar otros modelos con **validación cruzada y grid search** más amplio para robustecer los resultados.  \n",
    "- Analizar features complementarias (densidad, métricas de forma, índices derivados) para reducir la dependencia de `h_p95`.  \n",
    "- Explorar la **transferibilidad del modelo** en otros datasets de vegetación para medir generalización.  \n",
    "\n",
    "---\n",
    "\n",
    "✅ Conclusión final: el modelo supervisado (RandomForest) reproduce casi exactamente la clasificación heurística por altura. Para avanzar hacia una clasificación **real y confiable**, será necesario integrar **datos de campo** y ampliar el set de variables discriminantes."
   ]
  }
 ],
 "metadata": {
  "kernelspec": {
   "display_name": "lidar-veg",
   "language": "python",
   "name": "python3"
  },
  "language_info": {
   "codemirror_mode": {
    "name": "ipython",
    "version": 3
   },
   "file_extension": ".py",
   "mimetype": "text/x-python",
   "name": "python",
   "nbconvert_exporter": "python",
   "pygments_lexer": "ipython3",
   "version": "3.11.13"
  }
 },
 "nbformat": 4,
 "nbformat_minor": 5
}
